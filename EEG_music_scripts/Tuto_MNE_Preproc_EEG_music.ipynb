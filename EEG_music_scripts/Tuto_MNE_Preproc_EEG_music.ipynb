{
 "cells": [
  {
   "cell_type": "markdown",
   "metadata": {
    "colab_type": "text",
    "id": "s1QaiZTthXMO"
   },
   "source": [
    "# EEG data loading and pre-processing "
   ]
  },
  {
   "cell_type": "markdown",
   "metadata": {
    "colab_type": "text",
    "id": "BysKd2RQhXMQ"
   },
   "source": [
    "### Packages import"
   ]
  },
  {
   "cell_type": "markdown",
   "metadata": {
    "colab_type": "text",
    "id": "tx0iuJw3hXMR"
   },
   "source": [
    "Packages are Python librairies, i.e. files that contain pre-written functions. We need to import the packages before using the functions that they include. For our purpose (MEG/EEG data analysis), most of the functions will be included in the MNE package, but we may have to use other packages too."
   ]
  },
  {
   "cell_type": "code",
   "execution_count": 15,
   "metadata": {
    "colab": {
     "autoexec": {
      "startup": false,
      "wait_interval": 0
     },
     "base_uri": "https://localhost:8080/",
     "height": 51
    },
    "colab_type": "code",
    "executionInfo": {
     "elapsed": 5428,
     "status": "ok",
     "timestamp": 1526836409342,
     "user": {
      "displayName": "Yann Harel",
      "photoUrl": "https://lh3.googleusercontent.com/a/default-user=s128",
      "userId": "105826390160285088523"
     },
     "user_tz": 240
    },
    "id": "cZ26hXN1hXMT",
    "outputId": "6755e6a2-58f0-42ef-a68a-7597b6f34111"
   },
   "outputs": [
    {
     "name": "stdout",
     "output_type": "stream",
     "text": [
      "Requirement already satisfied: mne in c:\\users\\dell\\anaconda3\\lib\\site-packages (0.19.dev0)\n",
      "Requirement already satisfied: numpy>=1.11.3 in c:\\users\\dell\\anaconda3\\lib\\site-packages (from mne) (1.16.4)\n",
      "Requirement already satisfied: scipy>=0.17.1 in c:\\users\\dell\\anaconda3\\lib\\site-packages (from mne) (1.3.0)\n"
     ]
    },
    {
     "name": "stderr",
     "output_type": "stream",
     "text": [
      "WARNING: You are using pip version 19.2.1, however version 19.2.2 is available.\n",
      "You should consider upgrading via the 'python -m pip install --upgrade pip' command.\n"
     ]
    },
    {
     "name": "stdout",
     "output_type": "stream",
     "text": [
      "Requirement already satisfied: scikit-learn in c:\\users\\dell\\anaconda3\\lib\\site-packages (0.21.2)\n",
      "Requirement already satisfied: joblib>=0.11 in c:\\users\\dell\\anaconda3\\lib\\site-packages (from scikit-learn) (0.13.2)\n",
      "Requirement already satisfied: scipy>=0.17.0 in c:\\users\\dell\\anaconda3\\lib\\site-packages (from scikit-learn) (1.3.0)\n",
      "Requirement already satisfied: numpy>=1.11.0 in c:\\users\\dell\\anaconda3\\lib\\site-packages (from scikit-learn) (1.16.4)\n"
     ]
    },
    {
     "name": "stderr",
     "output_type": "stream",
     "text": [
      "WARNING: You are using pip version 19.2.1, however version 19.2.2 is available.\n",
      "You should consider upgrading via the 'python -m pip install --upgrade pip' command.\n"
     ]
    }
   ],
   "source": [
    "! pip install mne \n",
    "# I know we said this is bad practice, but let's do it anyways so we don't have to open any terminal ;)\n",
    "! pip install scikit-learn --user\n",
    "\n",
    "import mne # Here we import mne, the package that will contain most of the function that we will use today.\n",
    "from mne.datasets.brainstorm import bst_raw # It is possible to import functions individually. This is helpful since it \n",
    "                                            # saves time, memory, and makes the calls to the function easier.\n",
    "from mne.preprocessing import ICA, create_eog_epochs, create_ecg_epochs\n",
    "%matplotlib notebook\n",
    "# ^ This last line lets us use the interactive plots in Jupyter"
   ]
  },
  {
   "cell_type": "code",
   "execution_count": null,
   "metadata": {},
   "outputs": [],
   "source": []
  },
  {
   "cell_type": "markdown",
   "metadata": {
    "colab_type": "text",
    "id": "JY8x8kU8hXMZ"
   },
   "source": [
    "### Loading the data"
   ]
  },
  {
   "cell_type": "code",
   "execution_count": 16,
   "metadata": {
    "colab": {
     "autoexec": {
      "startup": false,
      "wait_interval": 0
     },
     "base_uri": "https://localhost:8080/",
     "height": 493
    },
    "colab_type": "code",
    "executionInfo": {
     "elapsed": 26737,
     "status": "ok",
     "timestamp": 1526836439591,
     "user": {
      "displayName": "Yann Harel",
      "photoUrl": "https://lh3.googleusercontent.com/a/default-user=s128",
      "userId": "105826390160285088523"
     },
     "user_tz": 240
    },
    "id": "QtVwJHPkhXMa",
    "outputId": "ccbbb420-44e6-4c7c-e5c4-a7c204fe62b6",
    "scrolled": true
   },
   "outputs": [],
   "source": [
    "PARTICIPANTS = ['01', '04', '05', '06', '07', '09', '11', '12', '13', '14']"
   ]
  },
  {
   "cell_type": "code",
   "execution_count": 18,
   "metadata": {},
   "outputs": [
    {
     "name": "stdout",
     "output_type": "stream",
     "text": [
      "Opening raw data file C:\\Users\\Dell\\Jupyter\\MNE_python\\P01-raw.fif...\n",
      "Isotrak not found\n",
      "    Read a total of 1 projection items:\n",
      "        Average EEG reference (1 x 64)  idle\n",
      "    Range : 0 ... 2478165 =      0.000 ...  4840.166 secs\n",
      "Ready.\n",
      "Reading 0 ... 2478165  =      0.000 ...  4840.166 secs...\n",
      "Opening raw data file C:\\Users\\Dell\\Jupyter\\MNE_python\\P04-raw.fif...\n",
      "Isotrak not found\n",
      "    Read a total of 1 projection items:\n",
      "        Average EEG reference (1 x 64)  idle\n",
      "    Range : 0 ... 2480032 =      0.000 ...  4843.812 secs\n",
      "Ready.\n",
      "Reading 0 ... 2480032  =      0.000 ...  4843.812 secs...\n",
      "Opening raw data file C:\\Users\\Dell\\Jupyter\\MNE_python\\P05-raw.fif...\n",
      "Isotrak not found\n",
      "    Read a total of 1 projection items:\n",
      "        Average EEG reference (1 x 64)  idle\n",
      "    Range : 0 ... 2521101 =      0.000 ...  4924.025 secs\n",
      "Ready.\n",
      "Reading 0 ... 2521101  =      0.000 ...  4924.025 secs...\n",
      "Opening raw data file C:\\Users\\Dell\\Jupyter\\MNE_python\\P06-raw.fif...\n",
      "Isotrak not found\n",
      "    Read a total of 1 projection items:\n",
      "        Average EEG reference (1 x 64)  idle\n",
      "    Range : 0 ... 2433033 =      0.000 ...  4752.018 secs\n",
      "Ready.\n",
      "Reading 0 ... 2433033  =      0.000 ...  4752.018 secs...\n",
      "Opening raw data file C:\\Users\\Dell\\Jupyter\\MNE_python\\P07-raw.fif...\n",
      "Isotrak not found\n",
      "    Read a total of 1 projection items:\n",
      "        Average EEG reference (1 x 64)  idle\n",
      "    Range : 0 ... 2520436 =      0.000 ...  4922.727 secs\n",
      "Ready.\n",
      "Reading 0 ... 2520436  =      0.000 ...  4922.727 secs...\n",
      "Opening raw data file C:\\Users\\Dell\\Jupyter\\MNE_python\\P09-raw.fif...\n",
      "Isotrak not found\n",
      "    Read a total of 1 projection items:\n",
      "        Average EEG reference (1 x 66)  idle\n",
      "    Range : 0 ... 2440555 =      0.000 ...  4766.709 secs\n",
      "Ready.\n",
      "Reading 0 ... 2440555  =      0.000 ...  4766.709 secs...\n",
      "Opening raw data file C:\\Users\\Dell\\Jupyter\\MNE_python\\P11-raw.fif...\n",
      "Isotrak not found\n",
      "    Read a total of 1 projection items:\n",
      "        Average EEG reference (1 x 66)  idle\n",
      "    Range : 0 ... 2644880 =      0.000 ...  5165.781 secs\n",
      "Ready.\n",
      "Reading 0 ... 2644880  =      0.000 ...  5165.781 secs...\n",
      "Opening raw data file C:\\Users\\Dell\\Jupyter\\MNE_python\\P12-raw.fif...\n",
      "Isotrak not found\n",
      "    Read a total of 1 projection items:\n",
      "        Average EEG reference (1 x 66)  idle\n",
      "    Range : 0 ... 2485348 =      0.000 ...  4854.195 secs\n",
      "Ready.\n",
      "Reading 0 ... 2485348  =      0.000 ...  4854.195 secs...\n",
      "Opening raw data file C:\\Users\\Dell\\Jupyter\\MNE_python\\P13-raw.fif...\n",
      "Isotrak not found\n",
      "    Read a total of 1 projection items:\n",
      "        Average EEG reference (1 x 66)  idle\n",
      "    Range : 0 ... 2511914 =      0.000 ...  4906.082 secs\n",
      "Ready.\n",
      "Reading 0 ... 2511914  =      0.000 ...  4906.082 secs...\n",
      "Opening raw data file C:\\Users\\Dell\\Jupyter\\MNE_python\\P14-raw.fif...\n",
      "Isotrak not found\n",
      "    Read a total of 1 projection items:\n",
      "        Average EEG reference (1 x 66)  idle\n",
      "    Range : 0 ... 2465433 =      0.000 ...  4815.299 secs\n",
      "Ready.\n",
      "Reading 0 ... 2465433  =      0.000 ...  4815.299 secs...\n"
     ]
    }
   ],
   "source": [
    "data_path = r'C:\\Users\\Dell\\Jupyter\\MNE_python'\n",
    "raw = {}\n",
    "#Load data for each of the 10 participants\n",
    "for p in PARTICIPANTS:\n",
    "    raw_fname = data_path + '\\P' + p + '-raw.fif'\n",
    "    raw[p] = mne.io.read_raw_fif(raw_fname, preload=True)\n",
    "    "
   ]
  },
  {
   "cell_type": "code",
   "execution_count": 14,
   "metadata": {},
   "outputs": [
    {
     "data": {
      "text/plain": [
       "['Fp1',\n",
       " 'AF7',\n",
       " 'AF3',\n",
       " 'F1',\n",
       " 'F3',\n",
       " 'F5',\n",
       " 'F7',\n",
       " 'FT7',\n",
       " 'FC5',\n",
       " 'FC3',\n",
       " 'FC1',\n",
       " 'C1',\n",
       " 'C3',\n",
       " 'C5',\n",
       " 'T7',\n",
       " 'TP7',\n",
       " 'CP5',\n",
       " 'CP3',\n",
       " 'CP1',\n",
       " 'P1',\n",
       " 'P3',\n",
       " 'P5',\n",
       " 'P7',\n",
       " 'P9',\n",
       " 'PO7',\n",
       " 'PO3',\n",
       " 'O1',\n",
       " 'Iz',\n",
       " 'Oz',\n",
       " 'POz',\n",
       " 'Pz',\n",
       " 'CPz',\n",
       " 'Fpz',\n",
       " 'Fp2',\n",
       " 'AF8',\n",
       " 'AF4',\n",
       " 'AFz',\n",
       " 'Fz',\n",
       " 'F2',\n",
       " 'F4',\n",
       " 'F6',\n",
       " 'F8',\n",
       " 'FT8',\n",
       " 'FC6',\n",
       " 'FC4',\n",
       " 'FC2',\n",
       " 'FCz',\n",
       " 'Cz',\n",
       " 'C2',\n",
       " 'C4',\n",
       " 'C6',\n",
       " 'T8',\n",
       " 'TP8',\n",
       " 'CP6',\n",
       " 'CP4',\n",
       " 'CP2',\n",
       " 'P2',\n",
       " 'P4',\n",
       " 'P6',\n",
       " 'P8',\n",
       " 'P10',\n",
       " 'PO8',\n",
       " 'PO4',\n",
       " 'O2',\n",
       " 'EXG1',\n",
       " 'EXG2',\n",
       " 'EXG3',\n",
       " 'EXG4',\n",
       " 'EXG5',\n",
       " 'EXG6',\n",
       " 'STI 014']"
      ]
     },
     "execution_count": 14,
     "metadata": {},
     "output_type": "execute_result"
    }
   ],
   "source": [
    "#Remove EXG5 and EXG6 from participant 9 and higher\n",
    "raw['13'].info['ch_names']\n",
    "raw[p].drop_channels(['EXG5-EXG6'])"
   ]
  },
  {
   "cell_type": "code",
   "execution_count": 1,
   "metadata": {},
   "outputs": [
    {
     "ename": "NameError",
     "evalue": "name 'mne' is not defined",
     "output_type": "error",
     "traceback": [
      "\u001b[1;31m---------------------------------------------------------------------------\u001b[0m",
      "\u001b[1;31mNameError\u001b[0m                                 Traceback (most recent call last)",
      "\u001b[1;32m<ipython-input-1-e48ea8e77f4c>\u001b[0m in \u001b[0;36m<module>\u001b[1;34m\u001b[0m\n\u001b[0;32m      4\u001b[0m \u001b[1;33m\u001b[0m\u001b[0m\n\u001b[0;32m      5\u001b[0m \u001b[1;33m\u001b[0m\u001b[0m\n\u001b[1;32m----> 6\u001b[1;33m \u001b[0mevents\u001b[0m \u001b[1;33m=\u001b[0m \u001b[0mmne\u001b[0m\u001b[1;33m.\u001b[0m\u001b[0mfind_events\u001b[0m\u001b[1;33m(\u001b[0m\u001b[0mraw\u001b[0m\u001b[1;33m[\u001b[0m\u001b[0mp\u001b[0m\u001b[1;33m]\u001b[0m\u001b[1;33m)\u001b[0m\u001b[1;33m\u001b[0m\u001b[1;33m\u001b[0m\u001b[0m\n\u001b[0m\u001b[0;32m      7\u001b[0m \u001b[0mevents_modif_cond\u001b[0m \u001b[1;33m=\u001b[0m \u001b[0mevents\u001b[0m\u001b[1;33m.\u001b[0m\u001b[0mcopy\u001b[0m\u001b[1;33m(\u001b[0m\u001b[1;33m)\u001b[0m\u001b[1;33m\u001b[0m\u001b[1;33m\u001b[0m\u001b[0m\n\u001b[0;32m      8\u001b[0m \u001b[0mevents_modif\u001b[0m \u001b[1;33m=\u001b[0m \u001b[0mevents\u001b[0m\u001b[1;33m.\u001b[0m\u001b[0mcopy\u001b[0m\u001b[1;33m(\u001b[0m\u001b[1;33m)\u001b[0m\u001b[1;33m\u001b[0m\u001b[1;33m\u001b[0m\u001b[0m\n",
      "\u001b[1;31mNameError\u001b[0m: name 'mne' is not defined"
     ]
    }
   ],
   "source": [
    "# Epoching for each condition\n",
    "\n",
    "#events = mne.find_events(raw['04'])\n",
    "\n",
    "\n",
    "events = mne.find_events(raw[p])\n",
    "events_modif_cond = events.copy()\n",
    "events_modif = events.copy()\n",
    "for e in events_modif_cond:\n",
    "    if int(str(e[2])) == 1111:\n",
    "        e[2] = 0\n",
    "for e in events_modif_cond:\n",
    "    if int(str(e[2])) == 2001:\n",
    "        e[2] = 0\n",
    "        \n",
    "for e in events_modif_cond:\n",
    "    if int(str(e[2])[-1]) == 1:\n",
    "        e[2] = 1\n",
    "    elif int(str(e[2])[-1]) == 2:\n",
    "        e[2] = 2\n",
    "    elif int(str(e[2])[-1]) == 3:\n",
    "        e[2] = 3\n",
    "\n",
    "        #int(str(events[0][2])[-1])\n",
    "event_id_cond = {'Percept': 1, 'Imagine_cued': 2}\n",
    "\n",
    "event_id = {'S1_p': 11, 'S1_i': 12,\n",
    "            'S2_p': 21, 'S2_i': 22, \n",
    "            'S3_p': 31, 'S3_i': 32,\n",
    "            'S4_p': 41, 'S4_i': 42,\n",
    "            'S11_p': 111, 'S11_i': 112,\n",
    "            'S12_p': 121, 'S12_i': 122, \n",
    "            'S13_p': 131, 'S13_i': 132,\n",
    "            'S14_p': 141, 'S14_i': 142,\n",
    "            'S21_p': 211, 'S21_i': 212,\n",
    "            'S22_p': 221, 'S22_i': 222, \n",
    "            'S23_p': 231, 'S23_i': 232,\n",
    "            'S24_p': 241, 'S24_i': 242}\n",
    "\n",
    "events_modif_cond"
   ]
  },
  {
   "cell_type": "code",
   "execution_count": 13,
   "metadata": {},
   "outputs": [
    {
     "name": "stdout",
     "output_type": "stream",
     "text": [
      "Filtering raw data in 1 contiguous segment\n",
      "Setting up band-pass filter from 0.5 - 90 Hz\n",
      "\n",
      "FIR filter parameters\n",
      "---------------------\n",
      "Designing a one-pass, zero-phase, non-causal bandpass filter:\n",
      "- Windowed time-domain design (firwin) method\n",
      "- Hamming window with 0.0194 passband ripple and 53 dB stopband attenuation\n",
      "- Lower passband edge: 0.50\n",
      "- Lower transition bandwidth: 0.50 Hz (-6 dB cutoff frequency: 0.25 Hz)\n",
      "- Upper passband edge: 90.00 Hz\n",
      "- Upper transition bandwidth: 22.50 Hz (-6 dB cutoff frequency: 101.25 Hz)\n",
      "- Filter length: 3379 samples (6.600 sec)\n",
      "\n",
      "Setting up band-stop filter\n",
      "\n",
      "FIR filter parameters\n",
      "---------------------\n",
      "Designing a one-pass, zero-phase, non-causal bandstop filter:\n",
      "- Windowed time-domain design (firwin) method\n",
      "- Hamming window with 0.0194 passband ripple and 53 dB stopband attenuation\n",
      "- Lower transition bandwidth: 0.50 Hz\n",
      "- Upper transition bandwidth: 0.50 Hz\n",
      "- Filter length: 3379 samples (6.600 sec)\n",
      "\n",
      "Fitting ICA to data using 61 channels (please be patient, this may take a while)\n",
      "Inferring max_pca_components from picks\n",
      "Selection by number: 20 components\n",
      "Fitting ICA took 26.0s.\n",
      "Using channel EXG2 as EOG channel\n",
      "EOG channel index for this subject is: [65]\n",
      "Filtering the data to remove DC offset to help distinguish blinks from saccades\n",
      "Setting up band-pass filter from 1 - 10 Hz\n",
      "\n",
      "FIR filter parameters\n",
      "---------------------\n",
      "Designing a two-pass forward and reverse, zero-phase, non-causal bandpass filter:\n",
      "- Windowed frequency-domain design (firwin2) method\n",
      "- Hann window\n",
      "- Lower passband edge: 1.00\n",
      "- Lower transition bandwidth: 0.50 Hz (-12 dB cutoff frequency: 0.75 Hz)\n",
      "- Upper passband edge: 10.00 Hz\n",
      "- Upper transition bandwidth: 0.50 Hz (-12 dB cutoff frequency: 10.25 Hz)\n",
      "- Filter length: 8192 samples (16.000 sec)\n",
      "\n",
      "Now detecting blinks and generating corresponding events\n",
      "Number of EOG events detected : 1579\n",
      "1579 matching events found\n",
      "No baseline correction applied\n",
      "Not setting metadata\n",
      "Loading data for 1579 events and 513 original time points ...\n",
      "0 bad epochs dropped\n",
      "Using channel EXG2 as EOG channel\n",
      "Transforming to ICA space (20 components)\n",
      "Zeroing out 0 ICA components\n",
      "120 matching events found\n",
      "Applying baseline correction (mode: mean)\n",
      "Not setting metadata\n",
      "1 projection items activated\n",
      "Overwriting existing file.\n",
      "Loading data for 120 events and 3739 original time points ...\n"
     ]
    },
    {
     "name": "stderr",
     "output_type": "stream",
     "text": [
      "<ipython-input-13-fa34ba83ce72>:46: RuntimeWarning: This filename (C:\\Users\\Dell\\Jupyter\\MNE_python\\epoched_data_cond01.fif.gz) does not conform to MNE naming conventions. All epochs files should end with -epo.fif, -epo.fif.gz, _epo.fif or _epo.fif.gz\n",
      "  epochs.save(data_path + '\\\\' + 'epoched_data_cond' + p +'.fif.gz', overwrite=True)\n"
     ]
    },
    {
     "name": "stdout",
     "output_type": "stream",
     "text": [
      "0 bad epochs dropped\n",
      "Loading data for 1 events and 3739 original time points ...\n",
      "Loading data for 120 events and 3739 original time points ...\n",
      "Filtering raw data in 1 contiguous segment\n",
      "Setting up band-pass filter from 0.5 - 90 Hz\n",
      "\n",
      "FIR filter parameters\n",
      "---------------------\n",
      "Designing a one-pass, zero-phase, non-causal bandpass filter:\n",
      "- Windowed time-domain design (firwin) method\n",
      "- Hamming window with 0.0194 passband ripple and 53 dB stopband attenuation\n",
      "- Lower passband edge: 0.50\n",
      "- Lower transition bandwidth: 0.50 Hz (-6 dB cutoff frequency: 0.25 Hz)\n",
      "- Upper passband edge: 90.00 Hz\n",
      "- Upper transition bandwidth: 22.50 Hz (-6 dB cutoff frequency: 101.25 Hz)\n",
      "- Filter length: 3379 samples (6.600 sec)\n",
      "\n",
      "Setting up band-stop filter\n",
      "\n",
      "FIR filter parameters\n",
      "---------------------\n",
      "Designing a one-pass, zero-phase, non-causal bandstop filter:\n",
      "- Windowed time-domain design (firwin) method\n",
      "- Hamming window with 0.0194 passband ripple and 53 dB stopband attenuation\n",
      "- Lower transition bandwidth: 0.50 Hz\n",
      "- Upper transition bandwidth: 0.50 Hz\n",
      "- Filter length: 3379 samples (6.600 sec)\n",
      "\n",
      "Fitting ICA to data using 63 channels (please be patient, this may take a while)\n",
      "Inferring max_pca_components from picks\n",
      "Selection by number: 20 components\n",
      "Fitting ICA took 26.7s.\n",
      "Using channel EXG2 as EOG channel\n",
      "EOG channel index for this subject is: [65]\n",
      "Filtering the data to remove DC offset to help distinguish blinks from saccades\n",
      "Setting up band-pass filter from 1 - 10 Hz\n",
      "\n",
      "FIR filter parameters\n",
      "---------------------\n",
      "Designing a two-pass forward and reverse, zero-phase, non-causal bandpass filter:\n",
      "- Windowed frequency-domain design (firwin2) method\n",
      "- Hann window\n",
      "- Lower passband edge: 1.00\n",
      "- Lower transition bandwidth: 0.50 Hz (-12 dB cutoff frequency: 0.75 Hz)\n",
      "- Upper passband edge: 10.00 Hz\n",
      "- Upper transition bandwidth: 0.50 Hz (-12 dB cutoff frequency: 10.25 Hz)\n",
      "- Filter length: 8192 samples (16.000 sec)\n",
      "\n",
      "Now detecting blinks and generating corresponding events\n",
      "Number of EOG events detected : 1581\n",
      "1581 matching events found\n",
      "No baseline correction applied\n",
      "Not setting metadata\n",
      "Loading data for 1581 events and 513 original time points ...\n",
      "0 bad epochs dropped\n",
      "Using channel EXG2 as EOG channel\n",
      "Transforming to ICA space (20 components)\n",
      "Zeroing out 0 ICA components\n",
      "120 matching events found\n",
      "Applying baseline correction (mode: mean)\n",
      "Not setting metadata\n",
      "1 projection items activated\n",
      "Overwriting existing file.\n",
      "Loading data for 120 events and 3739 original time points ...\n"
     ]
    },
    {
     "name": "stderr",
     "output_type": "stream",
     "text": [
      "<ipython-input-13-fa34ba83ce72>:46: RuntimeWarning: This filename (C:\\Users\\Dell\\Jupyter\\MNE_python\\epoched_data_cond04.fif.gz) does not conform to MNE naming conventions. All epochs files should end with -epo.fif, -epo.fif.gz, _epo.fif or _epo.fif.gz\n",
      "  epochs.save(data_path + '\\\\' + 'epoched_data_cond' + p +'.fif.gz', overwrite=True)\n"
     ]
    },
    {
     "name": "stdout",
     "output_type": "stream",
     "text": [
      "0 bad epochs dropped\n",
      "Loading data for 1 events and 3739 original time points ...\n",
      "Loading data for 120 events and 3739 original time points ...\n",
      "Filtering raw data in 1 contiguous segment\n",
      "Setting up band-pass filter from 0.5 - 90 Hz\n",
      "\n",
      "FIR filter parameters\n",
      "---------------------\n",
      "Designing a one-pass, zero-phase, non-causal bandpass filter:\n",
      "- Windowed time-domain design (firwin) method\n",
      "- Hamming window with 0.0194 passband ripple and 53 dB stopband attenuation\n",
      "- Lower passband edge: 0.50\n",
      "- Lower transition bandwidth: 0.50 Hz (-6 dB cutoff frequency: 0.25 Hz)\n",
      "- Upper passband edge: 90.00 Hz\n",
      "- Upper transition bandwidth: 22.50 Hz (-6 dB cutoff frequency: 101.25 Hz)\n",
      "- Filter length: 3379 samples (6.600 sec)\n",
      "\n",
      "Setting up band-stop filter\n",
      "\n",
      "FIR filter parameters\n",
      "---------------------\n",
      "Designing a one-pass, zero-phase, non-causal bandstop filter:\n",
      "- Windowed time-domain design (firwin) method\n",
      "- Hamming window with 0.0194 passband ripple and 53 dB stopband attenuation\n",
      "- Lower transition bandwidth: 0.50 Hz\n",
      "- Upper transition bandwidth: 0.50 Hz\n",
      "- Filter length: 3379 samples (6.600 sec)\n",
      "\n",
      "Fitting ICA to data using 64 channels (please be patient, this may take a while)\n",
      "Inferring max_pca_components from picks\n",
      "Selection by number: 20 components\n",
      "Fitting ICA took 31.2s.\n",
      "Using channel EXG2 as EOG channel\n",
      "EOG channel index for this subject is: [65]\n",
      "Filtering the data to remove DC offset to help distinguish blinks from saccades\n",
      "Setting up band-pass filter from 1 - 10 Hz\n",
      "\n",
      "FIR filter parameters\n",
      "---------------------\n",
      "Designing a two-pass forward and reverse, zero-phase, non-causal bandpass filter:\n",
      "- Windowed frequency-domain design (firwin2) method\n",
      "- Hann window\n",
      "- Lower passband edge: 1.00\n",
      "- Lower transition bandwidth: 0.50 Hz (-12 dB cutoff frequency: 0.75 Hz)\n",
      "- Upper passband edge: 10.00 Hz\n",
      "- Upper transition bandwidth: 0.50 Hz (-12 dB cutoff frequency: 10.25 Hz)\n",
      "- Filter length: 8192 samples (16.000 sec)\n",
      "\n",
      "Now detecting blinks and generating corresponding events\n",
      "Number of EOG events detected : 11\n",
      "11 matching events found\n",
      "No baseline correction applied\n",
      "Not setting metadata\n",
      "Loading data for 11 events and 513 original time points ...\n",
      "0 bad epochs dropped\n",
      "Using channel EXG2 as EOG channel\n",
      "Transforming to ICA space (20 components)\n",
      "Zeroing out 0 ICA components\n",
      "120 matching events found\n",
      "Applying baseline correction (mode: mean)\n",
      "Not setting metadata\n",
      "1 projection items activated\n",
      "Overwriting existing file.\n",
      "Loading data for 120 events and 3739 original time points ...\n"
     ]
    },
    {
     "name": "stderr",
     "output_type": "stream",
     "text": [
      "<ipython-input-13-fa34ba83ce72>:46: RuntimeWarning: This filename (C:\\Users\\Dell\\Jupyter\\MNE_python\\epoched_data_cond05.fif.gz) does not conform to MNE naming conventions. All epochs files should end with -epo.fif, -epo.fif.gz, _epo.fif or _epo.fif.gz\n",
      "  epochs.save(data_path + '\\\\' + 'epoched_data_cond' + p +'.fif.gz', overwrite=True)\n"
     ]
    },
    {
     "name": "stdout",
     "output_type": "stream",
     "text": [
      "0 bad epochs dropped\n",
      "Loading data for 1 events and 3739 original time points ...\n",
      "Loading data for 120 events and 3739 original time points ...\n",
      "Filtering raw data in 1 contiguous segment\n",
      "Setting up band-pass filter from 0.5 - 90 Hz\n",
      "\n",
      "FIR filter parameters\n",
      "---------------------\n",
      "Designing a one-pass, zero-phase, non-causal bandpass filter:\n",
      "- Windowed time-domain design (firwin) method\n",
      "- Hamming window with 0.0194 passband ripple and 53 dB stopband attenuation\n",
      "- Lower passband edge: 0.50\n",
      "- Lower transition bandwidth: 0.50 Hz (-6 dB cutoff frequency: 0.25 Hz)\n",
      "- Upper passband edge: 90.00 Hz\n",
      "- Upper transition bandwidth: 22.50 Hz (-6 dB cutoff frequency: 101.25 Hz)\n",
      "- Filter length: 3379 samples (6.600 sec)\n",
      "\n",
      "Setting up band-stop filter\n",
      "\n",
      "FIR filter parameters\n",
      "---------------------\n",
      "Designing a one-pass, zero-phase, non-causal bandstop filter:\n",
      "- Windowed time-domain design (firwin) method\n",
      "- Hamming window with 0.0194 passband ripple and 53 dB stopband attenuation\n",
      "- Lower transition bandwidth: 0.50 Hz\n",
      "- Upper transition bandwidth: 0.50 Hz\n",
      "- Filter length: 3379 samples (6.600 sec)\n",
      "\n",
      "Fitting ICA to data using 62 channels (please be patient, this may take a while)\n",
      "Inferring max_pca_components from picks\n",
      "Selection by number: 20 components\n",
      "Fitting ICA took 30.7s.\n",
      "Using channel EXG2 as EOG channel\n",
      "EOG channel index for this subject is: [65]\n",
      "Filtering the data to remove DC offset to help distinguish blinks from saccades\n",
      "Setting up band-pass filter from 1 - 10 Hz\n",
      "\n",
      "FIR filter parameters\n",
      "---------------------\n",
      "Designing a two-pass forward and reverse, zero-phase, non-causal bandpass filter:\n",
      "- Windowed frequency-domain design (firwin2) method\n",
      "- Hann window\n",
      "- Lower passband edge: 1.00\n",
      "- Lower transition bandwidth: 0.50 Hz (-12 dB cutoff frequency: 0.75 Hz)\n",
      "- Upper passband edge: 10.00 Hz\n",
      "- Upper transition bandwidth: 0.50 Hz (-12 dB cutoff frequency: 10.25 Hz)\n",
      "- Filter length: 8192 samples (16.000 sec)\n",
      "\n",
      "Now detecting blinks and generating corresponding events\n",
      "Number of EOG events detected : 442\n",
      "442 matching events found\n",
      "No baseline correction applied\n",
      "Not setting metadata\n",
      "Loading data for 442 events and 513 original time points ...\n",
      "0 bad epochs dropped\n",
      "Using channel EXG2 as EOG channel\n",
      "Transforming to ICA space (20 components)\n",
      "Zeroing out 0 ICA components\n",
      "120 matching events found\n",
      "Applying baseline correction (mode: mean)\n",
      "Not setting metadata\n",
      "1 projection items activated\n",
      "Overwriting existing file.\n",
      "Loading data for 120 events and 3739 original time points ...\n"
     ]
    },
    {
     "name": "stderr",
     "output_type": "stream",
     "text": [
      "<ipython-input-13-fa34ba83ce72>:46: RuntimeWarning: This filename (C:\\Users\\Dell\\Jupyter\\MNE_python\\epoched_data_cond06.fif.gz) does not conform to MNE naming conventions. All epochs files should end with -epo.fif, -epo.fif.gz, _epo.fif or _epo.fif.gz\n",
      "  epochs.save(data_path + '\\\\' + 'epoched_data_cond' + p +'.fif.gz', overwrite=True)\n"
     ]
    },
    {
     "name": "stdout",
     "output_type": "stream",
     "text": [
      "0 bad epochs dropped\n",
      "Loading data for 1 events and 3739 original time points ...\n",
      "Loading data for 120 events and 3739 original time points ...\n",
      "Filtering raw data in 1 contiguous segment\n",
      "Setting up band-pass filter from 0.5 - 90 Hz\n",
      "\n",
      "FIR filter parameters\n",
      "---------------------\n",
      "Designing a one-pass, zero-phase, non-causal bandpass filter:\n",
      "- Windowed time-domain design (firwin) method\n",
      "- Hamming window with 0.0194 passband ripple and 53 dB stopband attenuation\n",
      "- Lower passband edge: 0.50\n",
      "- Lower transition bandwidth: 0.50 Hz (-6 dB cutoff frequency: 0.25 Hz)\n",
      "- Upper passband edge: 90.00 Hz\n",
      "- Upper transition bandwidth: 22.50 Hz (-6 dB cutoff frequency: 101.25 Hz)\n",
      "- Filter length: 3379 samples (6.600 sec)\n",
      "\n",
      "Setting up band-stop filter\n",
      "\n",
      "FIR filter parameters\n",
      "---------------------\n",
      "Designing a one-pass, zero-phase, non-causal bandstop filter:\n",
      "- Windowed time-domain design (firwin) method\n",
      "- Hamming window with 0.0194 passband ripple and 53 dB stopband attenuation\n",
      "- Lower transition bandwidth: 0.50 Hz\n",
      "- Upper transition bandwidth: 0.50 Hz\n",
      "- Filter length: 3379 samples (6.600 sec)\n",
      "\n",
      "Fitting ICA to data using 64 channels (please be patient, this may take a while)\n",
      "Inferring max_pca_components from picks\n",
      "Selection by number: 20 components\n",
      "Fitting ICA took 32.5s.\n",
      "Using channel EXG2 as EOG channel\n",
      "EOG channel index for this subject is: [65]\n",
      "Filtering the data to remove DC offset to help distinguish blinks from saccades\n",
      "Setting up band-pass filter from 1 - 10 Hz\n",
      "\n",
      "FIR filter parameters\n",
      "---------------------\n",
      "Designing a two-pass forward and reverse, zero-phase, non-causal bandpass filter:\n",
      "- Windowed frequency-domain design (firwin2) method\n",
      "- Hann window\n",
      "- Lower passband edge: 1.00\n",
      "- Lower transition bandwidth: 0.50 Hz (-12 dB cutoff frequency: 0.75 Hz)\n",
      "- Upper passband edge: 10.00 Hz\n",
      "- Upper transition bandwidth: 0.50 Hz (-12 dB cutoff frequency: 10.25 Hz)\n",
      "- Filter length: 8192 samples (16.000 sec)\n",
      "\n",
      "Now detecting blinks and generating corresponding events\n",
      "Number of EOG events detected : 1721\n",
      "1721 matching events found\n",
      "No baseline correction applied\n",
      "Not setting metadata\n",
      "Loading data for 1721 events and 513 original time points ...\n",
      "2 bad epochs dropped\n",
      "Using channel EXG2 as EOG channel\n",
      "Transforming to ICA space (20 components)\n",
      "Zeroing out 0 ICA components\n",
      "120 matching events found\n",
      "Applying baseline correction (mode: mean)\n",
      "Not setting metadata\n",
      "1 projection items activated\n",
      "Loading data for 120 events and 3739 original time points ...\n"
     ]
    },
    {
     "name": "stderr",
     "output_type": "stream",
     "text": [
      "<ipython-input-13-fa34ba83ce72>:46: RuntimeWarning: This filename (C:\\Users\\Dell\\Jupyter\\MNE_python\\epoched_data_cond07.fif.gz) does not conform to MNE naming conventions. All epochs files should end with -epo.fif, -epo.fif.gz, _epo.fif or _epo.fif.gz\n",
      "  epochs.save(data_path + '\\\\' + 'epoched_data_cond' + p +'.fif.gz', overwrite=True)\n"
     ]
    },
    {
     "name": "stdout",
     "output_type": "stream",
     "text": [
      "0 bad epochs dropped\n",
      "Loading data for 1 events and 3739 original time points ...\n",
      "Loading data for 120 events and 3739 original time points ...\n",
      "Filtering raw data in 1 contiguous segment\n",
      "Setting up band-pass filter from 0.5 - 90 Hz\n",
      "\n",
      "FIR filter parameters\n",
      "---------------------\n",
      "Designing a one-pass, zero-phase, non-causal bandpass filter:\n",
      "- Windowed time-domain design (firwin) method\n",
      "- Hamming window with 0.0194 passband ripple and 53 dB stopband attenuation\n",
      "- Lower passband edge: 0.50\n",
      "- Lower transition bandwidth: 0.50 Hz (-6 dB cutoff frequency: 0.25 Hz)\n",
      "- Upper passband edge: 90.00 Hz\n",
      "- Upper transition bandwidth: 22.50 Hz (-6 dB cutoff frequency: 101.25 Hz)\n",
      "- Filter length: 3379 samples (6.600 sec)\n",
      "\n",
      "Setting up band-stop filter\n",
      "\n",
      "FIR filter parameters\n",
      "---------------------\n",
      "Designing a one-pass, zero-phase, non-causal bandstop filter:\n",
      "- Windowed time-domain design (firwin) method\n",
      "- Hamming window with 0.0194 passband ripple and 53 dB stopband attenuation\n",
      "- Lower transition bandwidth: 0.50 Hz\n",
      "- Upper transition bandwidth: 0.50 Hz\n",
      "- Filter length: 3379 samples (6.600 sec)\n",
      "\n",
      "Fitting ICA to data using 66 channels (please be patient, this may take a while)\n",
      "Inferring max_pca_components from picks\n",
      "Selection by number: 20 components\n",
      "Fitting ICA took 24.9s.\n",
      "Using channel EXG2 as EOG channel\n",
      "EOG channel index for this subject is: [65]\n",
      "Filtering the data to remove DC offset to help distinguish blinks from saccades\n",
      "Setting up band-pass filter from 1 - 10 Hz\n",
      "\n",
      "FIR filter parameters\n",
      "---------------------\n",
      "Designing a two-pass forward and reverse, zero-phase, non-causal bandpass filter:\n",
      "- Windowed frequency-domain design (firwin2) method\n",
      "- Hann window\n",
      "- Lower passband edge: 1.00\n",
      "- Lower transition bandwidth: 0.50 Hz (-12 dB cutoff frequency: 0.75 Hz)\n",
      "- Upper passband edge: 10.00 Hz\n",
      "- Upper transition bandwidth: 0.50 Hz (-12 dB cutoff frequency: 10.25 Hz)\n",
      "- Filter length: 8192 samples (16.000 sec)\n",
      "\n",
      "Now detecting blinks and generating corresponding events\n",
      "Number of EOG events detected : 436\n",
      "436 matching events found\n",
      "No baseline correction applied\n",
      "Not setting metadata\n",
      "Created an SSP operator (subspace dimension = 1)\n",
      "Loading data for 436 events and 513 original time points ...\n",
      "0 bad epochs dropped\n",
      "Using channel EXG2 as EOG channel\n",
      "Transforming to ICA space (20 components)\n",
      "Zeroing out 0 ICA components\n",
      "120 matching events found\n",
      "Applying baseline correction (mode: mean)\n",
      "Not setting metadata\n",
      "Created an SSP operator (subspace dimension = 1)\n",
      "1 projection items activated\n",
      "Loading data for 120 events and 3739 original time points ...\n"
     ]
    },
    {
     "name": "stderr",
     "output_type": "stream",
     "text": [
      "<ipython-input-13-fa34ba83ce72>:46: RuntimeWarning: This filename (C:\\Users\\Dell\\Jupyter\\MNE_python\\epoched_data_cond09.fif.gz) does not conform to MNE naming conventions. All epochs files should end with -epo.fif, -epo.fif.gz, _epo.fif or _epo.fif.gz\n",
      "  epochs.save(data_path + '\\\\' + 'epoched_data_cond' + p +'.fif.gz', overwrite=True)\n"
     ]
    },
    {
     "name": "stdout",
     "output_type": "stream",
     "text": [
      "0 bad epochs dropped\n",
      "Loading data for 1 events and 3739 original time points ...\n",
      "Loading data for 120 events and 3739 original time points ...\n",
      "Filtering raw data in 1 contiguous segment\n",
      "Setting up band-pass filter from 0.5 - 90 Hz\n",
      "\n",
      "FIR filter parameters\n",
      "---------------------\n",
      "Designing a one-pass, zero-phase, non-causal bandpass filter:\n",
      "- Windowed time-domain design (firwin) method\n",
      "- Hamming window with 0.0194 passband ripple and 53 dB stopband attenuation\n",
      "- Lower passband edge: 0.50\n",
      "- Lower transition bandwidth: 0.50 Hz (-6 dB cutoff frequency: 0.25 Hz)\n",
      "- Upper passband edge: 90.00 Hz\n",
      "- Upper transition bandwidth: 22.50 Hz (-6 dB cutoff frequency: 101.25 Hz)\n",
      "- Filter length: 3379 samples (6.600 sec)\n",
      "\n",
      "Setting up band-stop filter\n",
      "\n",
      "FIR filter parameters\n",
      "---------------------\n",
      "Designing a one-pass, zero-phase, non-causal bandstop filter:\n",
      "- Windowed time-domain design (firwin) method\n",
      "- Hamming window with 0.0194 passband ripple and 53 dB stopband attenuation\n",
      "- Lower transition bandwidth: 0.50 Hz\n",
      "- Upper transition bandwidth: 0.50 Hz\n",
      "- Filter length: 3379 samples (6.600 sec)\n",
      "\n",
      "Fitting ICA to data using 64 channels (please be patient, this may take a while)\n",
      "Inferring max_pca_components from picks\n",
      "Selection by number: 20 components\n",
      "Fitting ICA took 48.9s.\n",
      "Using channel EXG2 as EOG channel\n",
      "EOG channel index for this subject is: [65]\n",
      "Filtering the data to remove DC offset to help distinguish blinks from saccades\n",
      "Setting up band-pass filter from 1 - 10 Hz\n",
      "\n",
      "FIR filter parameters\n",
      "---------------------\n",
      "Designing a two-pass forward and reverse, zero-phase, non-causal bandpass filter:\n",
      "- Windowed frequency-domain design (firwin2) method\n",
      "- Hann window\n",
      "- Lower passband edge: 1.00\n",
      "- Lower transition bandwidth: 0.50 Hz (-12 dB cutoff frequency: 0.75 Hz)\n",
      "- Upper passband edge: 10.00 Hz\n",
      "- Upper transition bandwidth: 0.50 Hz (-12 dB cutoff frequency: 10.25 Hz)\n",
      "- Filter length: 8192 samples (16.000 sec)\n",
      "\n",
      "Now detecting blinks and generating corresponding events\n",
      "Number of EOG events detected : 2278\n",
      "2278 matching events found\n",
      "No baseline correction applied\n",
      "Not setting metadata\n",
      "Created an SSP operator (subspace dimension = 1)\n",
      "Loading data for 2278 events and 513 original time points ...\n",
      "0 bad epochs dropped\n",
      "Using channel EXG2 as EOG channel\n",
      "Transforming to ICA space (20 components)\n",
      "Zeroing out 0 ICA components\n",
      "120 matching events found\n",
      "Applying baseline correction (mode: mean)\n",
      "Not setting metadata\n",
      "Created an SSP operator (subspace dimension = 1)\n",
      "1 projection items activated\n",
      "Loading data for 120 events and 3739 original time points ...\n"
     ]
    },
    {
     "name": "stderr",
     "output_type": "stream",
     "text": [
      "<ipython-input-13-fa34ba83ce72>:46: RuntimeWarning: This filename (C:\\Users\\Dell\\Jupyter\\MNE_python\\epoched_data_cond11.fif.gz) does not conform to MNE naming conventions. All epochs files should end with -epo.fif, -epo.fif.gz, _epo.fif or _epo.fif.gz\n",
      "  epochs.save(data_path + '\\\\' + 'epoched_data_cond' + p +'.fif.gz', overwrite=True)\n"
     ]
    },
    {
     "name": "stdout",
     "output_type": "stream",
     "text": [
      "0 bad epochs dropped\n",
      "Loading data for 1 events and 3739 original time points ...\n",
      "Loading data for 120 events and 3739 original time points ...\n",
      "Filtering raw data in 1 contiguous segment\n",
      "Setting up band-pass filter from 0.5 - 90 Hz\n",
      "\n",
      "FIR filter parameters\n",
      "---------------------\n",
      "Designing a one-pass, zero-phase, non-causal bandpass filter:\n",
      "- Windowed time-domain design (firwin) method\n",
      "- Hamming window with 0.0194 passband ripple and 53 dB stopband attenuation\n",
      "- Lower passband edge: 0.50\n",
      "- Lower transition bandwidth: 0.50 Hz (-6 dB cutoff frequency: 0.25 Hz)\n",
      "- Upper passband edge: 90.00 Hz\n",
      "- Upper transition bandwidth: 22.50 Hz (-6 dB cutoff frequency: 101.25 Hz)\n",
      "- Filter length: 3379 samples (6.600 sec)\n",
      "\n",
      "Setting up band-stop filter\n",
      "\n",
      "FIR filter parameters\n",
      "---------------------\n",
      "Designing a one-pass, zero-phase, non-causal bandstop filter:\n",
      "- Windowed time-domain design (firwin) method\n",
      "- Hamming window with 0.0194 passband ripple and 53 dB stopband attenuation\n",
      "- Lower transition bandwidth: 0.50 Hz\n",
      "- Upper transition bandwidth: 0.50 Hz\n",
      "- Filter length: 3379 samples (6.600 sec)\n",
      "\n",
      "Fitting ICA to data using 64 channels (please be patient, this may take a while)\n",
      "Inferring max_pca_components from picks\n",
      "Selection by number: 20 components\n",
      "Fitting ICA took 33.1s.\n",
      "Using channel EXG2 as EOG channel\n",
      "EOG channel index for this subject is: [65]\n",
      "Filtering the data to remove DC offset to help distinguish blinks from saccades\n",
      "Setting up band-pass filter from 1 - 10 Hz\n",
      "\n",
      "FIR filter parameters\n",
      "---------------------\n",
      "Designing a two-pass forward and reverse, zero-phase, non-causal bandpass filter:\n",
      "- Windowed frequency-domain design (firwin2) method\n",
      "- Hann window\n",
      "- Lower passband edge: 1.00\n",
      "- Lower transition bandwidth: 0.50 Hz (-12 dB cutoff frequency: 0.75 Hz)\n",
      "- Upper passband edge: 10.00 Hz\n",
      "- Upper transition bandwidth: 0.50 Hz (-12 dB cutoff frequency: 10.25 Hz)\n",
      "- Filter length: 8192 samples (16.000 sec)\n",
      "\n",
      "Now detecting blinks and generating corresponding events\n",
      "Number of EOG events detected : 2396\n",
      "2396 matching events found\n",
      "No baseline correction applied\n",
      "Not setting metadata\n",
      "Created an SSP operator (subspace dimension = 1)\n",
      "Loading data for 2396 events and 513 original time points ...\n",
      "0 bad epochs dropped\n",
      "Using channel EXG2 as EOG channel\n",
      "Transforming to ICA space (20 components)\n",
      "Zeroing out 0 ICA components\n",
      "120 matching events found\n",
      "Applying baseline correction (mode: mean)\n",
      "Not setting metadata\n",
      "Created an SSP operator (subspace dimension = 1)\n",
      "1 projection items activated\n",
      "Loading data for 120 events and 3739 original time points ...\n"
     ]
    },
    {
     "name": "stderr",
     "output_type": "stream",
     "text": [
      "<ipython-input-13-fa34ba83ce72>:46: RuntimeWarning: This filename (C:\\Users\\Dell\\Jupyter\\MNE_python\\epoched_data_cond12.fif.gz) does not conform to MNE naming conventions. All epochs files should end with -epo.fif, -epo.fif.gz, _epo.fif or _epo.fif.gz\n",
      "  epochs.save(data_path + '\\\\' + 'epoched_data_cond' + p +'.fif.gz', overwrite=True)\n"
     ]
    },
    {
     "name": "stdout",
     "output_type": "stream",
     "text": [
      "0 bad epochs dropped\n",
      "Loading data for 1 events and 3739 original time points ...\n",
      "Loading data for 120 events and 3739 original time points ...\n",
      "Filtering raw data in 1 contiguous segment\n",
      "Setting up band-pass filter from 0.5 - 90 Hz\n",
      "\n",
      "FIR filter parameters\n",
      "---------------------\n",
      "Designing a one-pass, zero-phase, non-causal bandpass filter:\n",
      "- Windowed time-domain design (firwin) method\n",
      "- Hamming window with 0.0194 passband ripple and 53 dB stopband attenuation\n",
      "- Lower passband edge: 0.50\n",
      "- Lower transition bandwidth: 0.50 Hz (-6 dB cutoff frequency: 0.25 Hz)\n",
      "- Upper passband edge: 90.00 Hz\n",
      "- Upper transition bandwidth: 22.50 Hz (-6 dB cutoff frequency: 101.25 Hz)\n",
      "- Filter length: 3379 samples (6.600 sec)\n",
      "\n",
      "Setting up band-stop filter\n",
      "\n",
      "FIR filter parameters\n",
      "---------------------\n",
      "Designing a one-pass, zero-phase, non-causal bandstop filter:\n",
      "- Windowed time-domain design (firwin) method\n",
      "- Hamming window with 0.0194 passband ripple and 53 dB stopband attenuation\n",
      "- Lower transition bandwidth: 0.50 Hz\n",
      "- Upper transition bandwidth: 0.50 Hz\n",
      "- Filter length: 3379 samples (6.600 sec)\n",
      "\n",
      "Fitting ICA to data using 65 channels (please be patient, this may take a while)\n",
      "Inferring max_pca_components from picks\n",
      "Selection by number: 20 components\n",
      "Fitting ICA took 40.6s.\n",
      "Using channel EXG2 as EOG channel\n",
      "EOG channel index for this subject is: [65]\n",
      "Filtering the data to remove DC offset to help distinguish blinks from saccades\n",
      "Setting up band-pass filter from 1 - 10 Hz\n",
      "\n",
      "FIR filter parameters\n",
      "---------------------\n",
      "Designing a two-pass forward and reverse, zero-phase, non-causal bandpass filter:\n",
      "- Windowed frequency-domain design (firwin2) method\n",
      "- Hann window\n",
      "- Lower passband edge: 1.00\n",
      "- Lower transition bandwidth: 0.50 Hz (-12 dB cutoff frequency: 0.75 Hz)\n",
      "- Upper passband edge: 10.00 Hz\n",
      "- Upper transition bandwidth: 0.50 Hz (-12 dB cutoff frequency: 10.25 Hz)\n",
      "- Filter length: 8192 samples (16.000 sec)\n",
      "\n",
      "Now detecting blinks and generating corresponding events\n",
      "Number of EOG events detected : 1469\n",
      "1469 matching events found\n",
      "No baseline correction applied\n",
      "Not setting metadata\n",
      "Created an SSP operator (subspace dimension = 1)\n",
      "Loading data for 1469 events and 513 original time points ...\n",
      "0 bad epochs dropped\n",
      "Using channel EXG2 as EOG channel\n",
      "Transforming to ICA space (20 components)\n",
      "Zeroing out 0 ICA components\n",
      "120 matching events found\n",
      "Applying baseline correction (mode: mean)\n",
      "Not setting metadata\n",
      "Created an SSP operator (subspace dimension = 1)\n",
      "1 projection items activated\n",
      "Loading data for 120 events and 3739 original time points ...\n"
     ]
    },
    {
     "name": "stderr",
     "output_type": "stream",
     "text": [
      "<ipython-input-13-fa34ba83ce72>:46: RuntimeWarning: This filename (C:\\Users\\Dell\\Jupyter\\MNE_python\\epoched_data_cond13.fif.gz) does not conform to MNE naming conventions. All epochs files should end with -epo.fif, -epo.fif.gz, _epo.fif or _epo.fif.gz\n",
      "  epochs.save(data_path + '\\\\' + 'epoched_data_cond' + p +'.fif.gz', overwrite=True)\n"
     ]
    },
    {
     "name": "stdout",
     "output_type": "stream",
     "text": [
      "0 bad epochs dropped\n",
      "Loading data for 1 events and 3739 original time points ...\n",
      "Loading data for 120 events and 3739 original time points ...\n",
      "Filtering raw data in 1 contiguous segment\n",
      "Setting up band-pass filter from 0.5 - 90 Hz\n",
      "\n",
      "FIR filter parameters\n",
      "---------------------\n",
      "Designing a one-pass, zero-phase, non-causal bandpass filter:\n",
      "- Windowed time-domain design (firwin) method\n",
      "- Hamming window with 0.0194 passband ripple and 53 dB stopband attenuation\n",
      "- Lower passband edge: 0.50\n",
      "- Lower transition bandwidth: 0.50 Hz (-6 dB cutoff frequency: 0.25 Hz)\n",
      "- Upper passband edge: 90.00 Hz\n",
      "- Upper transition bandwidth: 22.50 Hz (-6 dB cutoff frequency: 101.25 Hz)\n",
      "- Filter length: 3379 samples (6.600 sec)\n",
      "\n",
      "Setting up band-stop filter\n",
      "\n",
      "FIR filter parameters\n",
      "---------------------\n",
      "Designing a one-pass, zero-phase, non-causal bandstop filter:\n",
      "- Windowed time-domain design (firwin) method\n",
      "- Hamming window with 0.0194 passband ripple and 53 dB stopband attenuation\n",
      "- Lower transition bandwidth: 0.50 Hz\n",
      "- Upper transition bandwidth: 0.50 Hz\n",
      "- Filter length: 3379 samples (6.600 sec)\n",
      "\n",
      "Fitting ICA to data using 64 channels (please be patient, this may take a while)\n",
      "Inferring max_pca_components from picks\n",
      "Selection by number: 20 components\n",
      "Fitting ICA took 27.2s.\n",
      "Using channel EXG2 as EOG channel\n",
      "EOG channel index for this subject is: [65]\n",
      "Filtering the data to remove DC offset to help distinguish blinks from saccades\n",
      "Setting up band-pass filter from 1 - 10 Hz\n",
      "\n",
      "FIR filter parameters\n",
      "---------------------\n",
      "Designing a two-pass forward and reverse, zero-phase, non-causal bandpass filter:\n",
      "- Windowed frequency-domain design (firwin2) method\n",
      "- Hann window\n",
      "- Lower passband edge: 1.00\n",
      "- Lower transition bandwidth: 0.50 Hz (-12 dB cutoff frequency: 0.75 Hz)\n",
      "- Upper passband edge: 10.00 Hz\n",
      "- Upper transition bandwidth: 0.50 Hz (-12 dB cutoff frequency: 10.25 Hz)\n",
      "- Filter length: 8192 samples (16.000 sec)\n",
      "\n",
      "Now detecting blinks and generating corresponding events\n",
      "Number of EOG events detected : 1996\n",
      "1996 matching events found\n",
      "No baseline correction applied\n",
      "Not setting metadata\n",
      "Created an SSP operator (subspace dimension = 1)\n",
      "Loading data for 1996 events and 513 original time points ...\n",
      "1 bad epochs dropped\n",
      "Using channel EXG2 as EOG channel\n",
      "Transforming to ICA space (20 components)\n",
      "Zeroing out 0 ICA components\n",
      "120 matching events found\n",
      "Applying baseline correction (mode: mean)\n",
      "Not setting metadata\n",
      "Created an SSP operator (subspace dimension = 1)\n",
      "1 projection items activated\n",
      "Loading data for 120 events and 3739 original time points ...\n"
     ]
    },
    {
     "name": "stderr",
     "output_type": "stream",
     "text": [
      "<ipython-input-13-fa34ba83ce72>:46: RuntimeWarning: This filename (C:\\Users\\Dell\\Jupyter\\MNE_python\\epoched_data_cond14.fif.gz) does not conform to MNE naming conventions. All epochs files should end with -epo.fif, -epo.fif.gz, _epo.fif or _epo.fif.gz\n",
      "  epochs.save(data_path + '\\\\' + 'epoched_data_cond' + p +'.fif.gz', overwrite=True)\n"
     ]
    },
    {
     "name": "stdout",
     "output_type": "stream",
     "text": [
      "0 bad epochs dropped\n",
      "Loading data for 1 events and 3739 original time points ...\n",
      "Loading data for 120 events and 3739 original time points ...\n"
     ]
    }
   ],
   "source": [
    "##OVERALL PREPROCESSING FOR ALL PARTICIPANTS\n",
    "\n",
    "\n",
    "for p in PARTICIPANTS:\n",
    "\n",
    "#Filtering\n",
    "    raw[p].filter(0.5, 90., fir_design=\"firwin\") # This method applies a bandpass filter to the data in \"raw\".\n",
    "                                           # Here, we keep only frequencies between 0.5 and 150Hz, the rest will be attenuated.\n",
    "    \n",
    "    raw[p].notch_filter([60, 120], filter_length='auto',phase='zero', fir_design=\"firwin\") # The notch filter will only\n",
    "                                            # remove certain frequencies. Since in North America the power lines oscillates\n",
    "                                            # at 60Hz, we will remove this frequency and it's first harmonic, 120Hz.\n",
    "        \n",
    "#ICA\n",
    "\n",
    "    ica = mne.preprocessing.ICA(n_components=20, random_state=0).fit(raw[p], decim=3)\n",
    "\n",
    "    eog_epochs = create_eog_epochs(raw[p], ch_name='EXG2')\n",
    "    eog_inds, eog_scores = ica.find_bads_eog(eog_epochs, ch_name='EXG2')\n",
    "    #ica.plot_scores(eog_scores, eog_inds);\n",
    "    #ica.plot_properties(eog_epochs, picks=eog_inds, psd_args={'fmax': 35.},\n",
    "                    #image_args={'sigma': 1.});\n",
    "\n",
    "    ica.exclude = eog_inds\n",
    "    ica.apply(raw[p]) # Here we replace the old raw signal by the ICA recomposition\n",
    "\n",
    "#Epoching\n",
    "\n",
    "\n",
    "    tmin, tmax = -0.5, 6.8 # Here we define the amount of time we want to keep before (tmin) and after (tmax) the event.\n",
    "                       \n",
    "    \n",
    "    baseline = (-0.5, -0.1) # When epoching, we often want to use some kind of baseline correction. Here, we define that our baseline\n",
    "                       # starts at the beginning of the epoch and goes until the stimulus occurence (t=0)\n",
    "    \n",
    "    reject = {'eeg': 40e-6} # The Epochs() function allows to automatically reject events in which one or more channels exceeds a\n",
    "                        # threshold value. We can set different values for different types of channels (mag, grad, eeg etc...).\n",
    "                        # This is useful because even a meticulous pre-processing may leave some noisy segments in the data, and\n",
    "                        # this method only rejects the contaminated trials while keeping the others intact.\n",
    "            \n",
    "    picks = mne.pick_types(raw[p].info, eeg=True)\n",
    "                       #eeg=False, eog=False) # We choose to analyse only the magnetometers ('mag')\n",
    "    \n",
    "    epochs = mne.Epochs(raw[p], events=events_modif_cond, event_id=event_id_cond, tmin=tmin,\n",
    "                        tmax=tmax, baseline=baseline, reject=None)\n",
    "    epochs.save(data_path + '\\\\' + 'epoched_data_cond' + p +'.fif.gz', overwrite=True)\n",
    "    #epochs.save(p + '.fif.gz')"
   ]
  },
  {
   "cell_type": "markdown",
   "metadata": {
    "colab_type": "text",
    "id": "icxgTtXXhXMk"
   },
   "source": [
    "### MNE data objects"
   ]
  },
  {
   "cell_type": "markdown",
   "metadata": {
    "colab_type": "text",
    "id": "5NnNFfsRhXMl"
   },
   "source": [
    "The MNE data objects contains the data + some information (sampling frequency, number of channels etc...). It is very convenient since most MNE functions will be applied directly on this object, and you can access everything in the same place. "
   ]
  },
  {
   "cell_type": "code",
   "execution_count": null,
   "metadata": {
    "colab": {
     "autoexec": {
      "startup": false,
      "wait_interval": 0
     },
     "base_uri": "https://localhost:8080/",
     "height": 629
    },
    "colab_type": "code",
    "executionInfo": {
     "elapsed": 315,
     "status": "ok",
     "timestamp": 1526836872187,
     "user": {
      "displayName": "Yann Harel",
      "photoUrl": "https://lh3.googleusercontent.com/a/default-user=s128",
      "userId": "105826390160285088523"
     },
     "user_tz": 240
    },
    "id": "QpGcrb3MhXMm",
    "outputId": "dee5ff81-97a0-4584-83ae-ecba7e340c4d"
   },
   "outputs": [],
   "source": [
    "raw['01'].info # For example, you can use the method \"info\" to look at the informations about your data\n",
    "#raw['01'].info.get('ch_names')\n",
    "#raw.check_trial_events()"
   ]
  },
  {
   "cell_type": "code",
   "execution_count": null,
   "metadata": {
    "colab": {
     "autoexec": {
      "startup": false,
      "wait_interval": 0
     },
     "base_uri": "https://localhost:8080/",
     "height": 34
    },
    "colab_type": "code",
    "executionInfo": {
     "elapsed": 290,
     "status": "ok",
     "timestamp": 1526836884835,
     "user": {
      "displayName": "Yann Harel",
      "photoUrl": "https://lh3.googleusercontent.com/a/default-user=s128",
      "userId": "105826390160285088523"
     },
     "user_tz": 240
    },
    "id": "VhRXuj3jhXMu",
    "outputId": "672d6a2e-d420-499c-8c19-cd5a18a87256"
   },
   "outputs": [],
   "source": [
    "raw.info.get('sfreq') # Or you can access each field separately by using get() (here, we ask for the sampling frequency)"
   ]
  },
  {
   "cell_type": "code",
   "execution_count": null,
   "metadata": {
    "colab": {
     "autoexec": {
      "startup": false,
      "wait_interval": 0
     },
     "base_uri": "https://localhost:8080/",
     "height": 17
    },
    "colab_type": "code",
    "executionInfo": {
     "elapsed": 1783,
     "status": "ok",
     "timestamp": 1526836888569,
     "user": {
      "displayName": "Yann Harel",
      "photoUrl": "https://lh3.googleusercontent.com/a/default-user=s128",
      "userId": "105826390160285088523"
     },
     "user_tz": 240
    },
    "id": "JBGCAzhShXMy",
    "outputId": "b7329296-5792-4b48-f2bd-782ff5428eaf"
   },
   "outputs": [],
   "source": [
    "raw.plot(); # You can also plot the timeseries of your data and scroll to explore them visually.\n",
    "           # The plot method can take many arguments to help you plot the data the way you want.\n",
    "           # Any transformation commanded by these arguments (e.g. filtering) will ONLY apply to the plotted data, \n",
    "           # the content of \"raw\" will be left untouched."
   ]
  },
  {
   "cell_type": "code",
   "execution_count": null,
   "metadata": {
    "colab": {
     "autoexec": {
      "startup": false,
      "wait_interval": 0
     },
     "base_uri": "https://localhost:8080/",
     "height": 51
    },
    "colab_type": "code",
    "executionInfo": {
     "elapsed": 3612,
     "status": "ok",
     "timestamp": 1526836902482,
     "user": {
      "displayName": "Yann Harel",
      "photoUrl": "https://lh3.googleusercontent.com/a/default-user=s128",
      "userId": "105826390160285088523"
     },
     "user_tz": 240
    },
    "id": "6xWQvRk5hXM4",
    "outputId": "369f4c79-1887-4860-f28f-4f2d86fdda7f",
    "scrolled": true
   },
   "outputs": [],
   "source": [
    "# Let's have a quick look at the spectrum of our data\n",
    "raw.plot_psd(tmax=60., average=False);"
   ]
  },
  {
   "cell_type": "markdown",
   "metadata": {
    "colab_type": "text",
    "id": "MShhae-hhXM8"
   },
   "source": [
    "### Filtering"
   ]
  },
  {
   "cell_type": "markdown",
   "metadata": {
    "colab_type": "text",
    "id": "q7TJJ1q4hXM-"
   },
   "source": [
    "Before doing anything with our data, we usually want to filter them in order to remove specific frequency bands.\n",
    "1. We want to remove frequencies that are either too low or too high to be meaningful to us\n",
    "    -> Band-pass filter\n",
    "2. We want to remove the line noise (i.e. noise generated by the alternative current used to power electric devices)\n",
    "    -> Notch filter"
   ]
  },
  {
   "cell_type": "code",
   "execution_count": null,
   "metadata": {
    "colab": {
     "autoexec": {
      "startup": false,
      "wait_interval": 0
     },
     "base_uri": "https://localhost:8080/",
     "height": 136
    },
    "colab_type": "code",
    "executionInfo": {
     "elapsed": 18044,
     "status": "ok",
     "timestamp": 1526836930851,
     "user": {
      "displayName": "Yann Harel",
      "photoUrl": "https://lh3.googleusercontent.com/a/default-user=s128",
      "userId": "105826390160285088523"
     },
     "user_tz": 240
    },
    "id": "5KjT9X3JhXM_",
    "outputId": "86f22628-30db-4f5c-e826-c38d0081fc96"
   },
   "outputs": [],
   "source": [
    "\n",
    "\n",
    "raw['04'].filter(0.5, 90., fir_design=\"firwin\") # This method applies a bandpass filter to the data in \"raw\".\n",
    "                                           # Here, we keep only frequencies between 0.5 and 150Hz, the rest will be attenuated.\n",
    "    \n",
    "raw['04'].notch_filter([60, 120], filter_length='auto',phase='zero', fir_design=\"firwin\") # The notch filter will only\n",
    "                                            # remove certain frequencies. Since in North America the power lines oscillates\n",
    "                                            # at 60Hz, we will remove this frequency and it's first harmonic, 120Hz."
   ]
  },
  {
   "cell_type": "code",
   "execution_count": null,
   "metadata": {
    "colab": {
     "autoexec": {
      "startup": false,
      "wait_interval": 0
     },
     "base_uri": "https://localhost:8080/",
     "height": 51
    },
    "colab_type": "code",
    "executionInfo": {
     "elapsed": 2647,
     "status": "ok",
     "timestamp": 1526836948303,
     "user": {
      "displayName": "Yann Harel",
      "photoUrl": "https://lh3.googleusercontent.com/a/default-user=s128",
      "userId": "105826390160285088523"
     },
     "user_tz": 240
    },
    "id": "LowUY3oVhXNE",
    "outputId": "9f06e45b-30cc-40a6-b6ca-163496bbcae6"
   },
   "outputs": [],
   "source": [
    "# Plot a new spectrum to see how the signal was modified\n",
    "raw['04'].plot_psd(tmax=60., average=False);"
   ]
  },
  {
   "cell_type": "markdown",
   "metadata": {
    "colab_type": "text",
    "id": "-XCl33avhXNJ"
   },
   "source": [
    "### ICA decomposition"
   ]
  },
  {
   "cell_type": "markdown",
   "metadata": {
    "colab_type": "text",
    "id": "W4XjVaZChXNK"
   },
   "source": [
    "The next classical step to MEG/EEG pre-processing is to run an Independent Component Analysis (ICA) in order to detect and remove occular and cardiac artifacts from our signal."
   ]
  },
  {
   "cell_type": "code",
   "execution_count": null,
   "metadata": {
    "colab": {
     "autoexec": {
      "startup": false,
      "wait_interval": 0
     }
    },
    "colab_type": "code",
    "id": "SvCPVCr0hXNL"
   },
   "outputs": [],
   "source": [
    "ica = mne.preprocessing.ICA(n_components=20, random_state=0).fit(raw['04'], decim=3) # We compute an ICA object from the data.\n",
    "# The n_components argument defines the number of components that we wish to obtain.\n",
    "# It is also possible to state that 0<n_components<1, in which case it will define the proportion of variance that \n",
    "# we want to be explained by the N components. "
   ]
  },
  {
   "cell_type": "code",
   "execution_count": null,
   "metadata": {
    "colab": {
     "autoexec": {
      "startup": false,
      "wait_interval": 0
     }
    },
    "colab_type": "code",
    "id": "hdh1EOf6hXNP",
    "scrolled": true
   },
   "outputs": [],
   "source": [
    "ica.plot_sources(raw['04']); # We can plot our components and explore them visually to get \n",
    "                      # an idea of which artifact was captured by which component. What do we see ?"
   ]
  },
  {
   "cell_type": "code",
   "execution_count": null,
   "metadata": {},
   "outputs": [],
   "source": [
    "ica.plot_components(outlines='skirt')"
   ]
  },
  {
   "cell_type": "markdown",
   "metadata": {
    "colab_type": "text",
    "id": "oMJYUoQ9hXNU"
   },
   "source": [
    "Looking at the above plot, we can guess that the last component (ICA019) captures cardiac activity. ICA001 looks like it has captured ocular blinks.\n",
    "However, this is kind of arbitrary. Let's confirm our guesses with an automatic method. Hopefully, this dataset has an ECG and EOG channels that will help us find the artifactual components. If it is not the case, this method will still work although it may make more mistakes. "
   ]
  },
  {
   "cell_type": "code",
   "execution_count": null,
   "metadata": {
    "colab": {
     "autoexec": {
      "startup": false,
      "wait_interval": 0
     }
    },
    "colab_type": "code",
    "id": "l5A5Yp3nhXNV"
   },
   "outputs": [],
   "source": []
  },
  {
   "cell_type": "code",
   "execution_count": null,
   "metadata": {
    "colab": {
     "autoexec": {
      "startup": false,
      "wait_interval": 0
     }
    },
    "colab_type": "code",
    "id": "xlGPi0qPhXNb",
    "scrolled": true
   },
   "outputs": [],
   "source": [
    "# Now, let's do the same for ocular blinks. Note that two things have changed :\n",
    "# - The functions used to detect artifacts are now called \"eog\" instead of \"ecg\"\n",
    "# - The channel to which we correlate our components is now EEG058, the EOG channel\n",
    "eog_epochs = create_eog_epochs(raw, ch_name='EXG2')\n",
    "eog_inds, eog_scores = ica.find_bads_eog(eog_epochs, ch_name='EXG2')\n",
    "ica.plot_scores(eog_scores, eog_inds);\n",
    "ica.plot_properties(eog_epochs, picks=eog_inds, psd_args={'fmax': 35.},\n",
    "                    image_args={'sigma': 1.});"
   ]
  },
  {
   "cell_type": "code",
   "execution_count": null,
   "metadata": {
    "colab": {
     "autoexec": {
      "startup": false,
      "wait_interval": 0
     }
    },
    "colab_type": "code",
    "id": "XGIBjeYEhXNe"
   },
   "outputs": [],
   "source": [
    "# Finally, we can recompose our signal while excluding the artifactual components : \n",
    "\n",
    "#ica.exclude = [1, 19] # We can also index the components individually, useful if we don't agree with the automatic detection\n",
    "\n",
    "#ica.exclude = ecg_inds # Exclude cardiac (ECG) or blinks (EOG) components \n",
    "#ica.apply(raw) # Here we replace the old raw signal by the ICA recomposition\n",
    "\n",
    "ica.exclude = eog_inds\n",
    "ica.apply(raw) # Here we replace the old raw signal by the ICA recomposition\n",
    "\n",
    "\n",
    "raw.plot(); # Plot the clean signal."
   ]
  },
  {
   "cell_type": "markdown",
   "metadata": {
    "colab_type": "text",
    "id": "P0keNglxhXNi"
   },
   "source": [
    "### Saving datasets"
   ]
  },
  {
   "cell_type": "code",
   "execution_count": null,
   "metadata": {
    "colab": {
     "autoexec": {
      "startup": false,
      "wait_interval": 0
     }
    },
    "colab_type": "code",
    "id": "q4mDe-NjhXNk"
   },
   "outputs": [],
   "source": [
    "# Now that our pre-processing is done, it is time to save our clean dataset\n",
    "\n",
    "filename = 'clean_dataset'\n",
    "raw.save(data_path + '\\\\' + filename + '_raw.fif.gz', overwrite=True) # May be necessary to switch between '\\\\' and '/' depending on your OS"
   ]
  },
  {
   "cell_type": "code",
   "execution_count": null,
   "metadata": {},
   "outputs": [],
   "source": [
    "events = mne.find_events(raw['04'])\n",
    "events_modif = events.copy()\n",
    "\n",
    "event_id = {'S1_p': 11, 'S1_i': 12,\n",
    "            'S2_p': 21, 'S2_i': 22, \n",
    "            'S3_p': 31, 'S3_i': 32,\n",
    "            'S4_p': 41, 'S4_i': 42,\n",
    "            'S11_p': 111, 'S11_i': 112,\n",
    "            'S12_p': 121, 'S12_i': 122, \n",
    "            'S13_p': 131, 'S13_i': 132,\n",
    "            'S14_p': 141, 'S14_i': 142,\n",
    "            'S21_p': 211, 'S21_i': 212,\n",
    "            'S22_p': 221, 'S22_i': 222, \n",
    "            'S23_p': 231, 'S23_i': 232,\n",
    "            'S24_p': 241, 'S24_i': 242}"
   ]
  },
  {
   "cell_type": "code",
   "execution_count": null,
   "metadata": {},
   "outputs": [],
   "source": []
  },
  {
   "cell_type": "code",
   "execution_count": null,
   "metadata": {
    "colab": {
     "autoexec": {
      "startup": false,
      "wait_interval": 0
     }
    },
    "colab_type": "code",
    "id": "0hXeGdLohXNq"
   },
   "outputs": [],
   "source": []
  },
  {
   "cell_type": "code",
   "execution_count": null,
   "metadata": {
    "colab": {
     "autoexec": {
      "startup": false,
      "wait_interval": 0
     }
    },
    "colab_type": "code",
    "id": "wFldcHvXhXNu"
   },
   "outputs": [],
   "source": [
    "mne.viz.plot_events(events, raw.info['sfreq'], raw.first_samp);\n",
    "                    #event_id=event_id);"
   ]
  },
  {
   "cell_type": "code",
   "execution_count": null,
   "metadata": {},
   "outputs": [],
   "source": [
    "tmin, tmax = -0.5, 6.8 # Here we define the amount of time we want to keep before (tmin) and after (tmax) the event.\n",
    "                       # Thus, we will split our signal into 0.7s chunks.\n",
    "    \n",
    "baseline = (-0.5, -0.1) # When epoching, we often want to use some kind of baseline correction. Here, we define that our baseline\n",
    "                       # starts at the beginning of the epoch and goes until the stimulus occurence (t=0)\n",
    "    \n",
    "reject = {'eeg': 40e-6} # The Epochs() function allows to automatically reject events in which one or more channels exceeds a\n",
    "                        # threshold value. We can set different values for different types of channels (mag, grad, eeg etc...).\n",
    "                        # This is useful because even a meticulous pre-processing may leave some noisy segments in the data, and\n",
    "                        # this method only rejects the contaminated trials while keeping the others intact.\n",
    "            \n",
    "picks = mne.pick_types(raw['04'].info, eeg=True)\n",
    "                       #eeg=False, eog=False) # We choose to analyse only the magnetometers ('mag')\n",
    "\n",
    "epochs = mne.Epochs(raw['04'], events=events_modif, event_id=event_id, tmin=tmin,\n",
    "                    tmax=tmax, baseline=baseline, reject=None)\n",
    "                    #, picks=picks) # This function splits the signal into epochs that\n",
    "                                                                             # can be accessed separately by calling epochs[condition]\n",
    "\n",
    "#epochs.drop_bad() # Here, we drop the epochs that were marked as bad using the \"reject\" parameter. \n",
    "                  # The dropped epochs will not be used for further analysis."
   ]
  },
  {
   "cell_type": "code",
   "execution_count": null,
   "metadata": {},
   "outputs": [],
   "source": [
    "evoked = epochs['Percept'].average()"
   ]
  },
  {
   "cell_type": "code",
   "execution_count": null,
   "metadata": {},
   "outputs": [],
   "source": [
    "epochs['Percept'].plot_psd_topomap(); # You can also plot the topographies of frequency bands.\n",
    "epochs['Imagine_cued'].plot_psd_topomap();  # Let's compare both conditions !"
   ]
  },
  {
   "cell_type": "code",
   "execution_count": null,
   "metadata": {},
   "outputs": [],
   "source": [
    "percept_epochs = epochs['Percept'].average()\n",
    "imagined_epochs = epochs['Imagine_cued'].average()"
   ]
  },
  {
   "cell_type": "code",
   "execution_count": null,
   "metadata": {
    "scrolled": true
   },
   "outputs": [],
   "source": [
    "imagined_epochs.plot_joint();"
   ]
  },
  {
   "cell_type": "code",
   "execution_count": null,
   "metadata": {
    "scrolled": false
   },
   "outputs": [],
   "source": [
    "mne.combine_evoked((percept_epochs, imagined_epochs), weights=(.5, -.5)).plot_joint(times=.35);"
   ]
  },
  {
   "cell_type": "code",
   "execution_count": null,
   "metadata": {},
   "outputs": [],
   "source": [
    "mne.viz.plot_compare_evokeds({\"percept\": percept_epochs, \"imagined\": imagined_epochs},\n",
    "                             picks=[22], truncate_yaxis=True);"
   ]
  },
  {
   "cell_type": "code",
   "execution_count": null,
   "metadata": {},
   "outputs": [],
   "source": []
  },
  {
   "cell_type": "code",
   "execution_count": null,
   "metadata": {},
   "outputs": [],
   "source": []
  },
  {
   "cell_type": "code",
   "execution_count": null,
   "metadata": {},
   "outputs": [],
   "source": []
  },
  {
   "cell_type": "code",
   "execution_count": null,
   "metadata": {},
   "outputs": [],
   "source": []
  },
  {
   "cell_type": "code",
   "execution_count": null,
   "metadata": {},
   "outputs": [],
   "source": [
    "data_percept = epochs['Percept'].get_data()\n",
    "data_imagined = epochs['Imagine_cued'].get_data()\n",
    "hurst_sensors_p = []\n",
    "hurst_sensors_i = []\n",
    "#first sensor, all events  (event, sensor, timestamp)\n",
    "for s in range(64):\n",
    "    hurst_sensors_p.append(hurst(data_percept[:, s, :]))\n",
    "    hurst_sensors_i.append(hurst(data_imagined[:, s, :]))\n",
    "\n",
    "\n"
   ]
  },
  {
   "cell_type": "code",
   "execution_count": null,
   "metadata": {},
   "outputs": [],
   "source": []
  },
  {
   "cell_type": "code",
   "execution_count": null,
   "metadata": {},
   "outputs": [],
   "source": []
  }
 ],
 "metadata": {
  "colab": {
   "collapsed_sections": [],
   "default_view": {},
   "name": "Tuto_MNE_Preproc.ipynb",
   "provenance": [],
   "version": "0.3.2",
   "views": {}
  },
  "kernelspec": {
   "display_name": "Python 3",
   "language": "python",
   "name": "python3"
  },
  "language_info": {
   "codemirror_mode": {
    "name": "ipython",
    "version": 3
   },
   "file_extension": ".py",
   "mimetype": "text/x-python",
   "name": "python",
   "nbconvert_exporter": "python",
   "pygments_lexer": "ipython3",
   "version": "3.7.4"
  }
 },
 "nbformat": 4,
 "nbformat_minor": 1
}
